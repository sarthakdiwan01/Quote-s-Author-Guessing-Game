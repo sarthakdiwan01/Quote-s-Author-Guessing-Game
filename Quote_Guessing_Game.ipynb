{
 "cells": [
  {
   "cell_type": "code",
   "execution_count": 1,
   "id": "556576bd-4a79-491a-b7a9-70b27c004510",
   "metadata": {},
   "outputs": [],
   "source": [
    "# Importing necessary libraries\n",
    "import requests\n",
    "from bs4 import BeautifulSoup\n",
    "from csv import writer\n",
    "from time import sleep\n",
    "from random import choice"
   ]
  },
  {
   "cell_type": "code",
   "execution_count": 2,
   "id": "fc8cd4d8-c67a-472b-a350-9672c1d3bfbc",
   "metadata": {},
   "outputs": [],
   "source": [
    "# Created a list to store all the scraped data\n",
    "all_quotes = []"
   ]
  },
  {
   "cell_type": "code",
   "execution_count": 3,
   "id": "e8fe79c1-a2f7-419d-8109-f505e67e7349",
   "metadata": {},
   "outputs": [],
   "source": [
    "# This is the url(the url: http://quotes.toscrape.com/) from where we are going to scrape the data\n",
    "base_url = \"http://quotes.toscrape.com/\""
   ]
  },
  {
   "cell_type": "code",
   "execution_count": 4,
   "id": "09d27344-e3a1-421c-82c4-bcd72dddabe3",
   "metadata": {},
   "outputs": [],
   "source": [
    "# This part of the url will keep changing\n",
    "url = \"/page/1\""
   ]
  },
  {
   "cell_type": "code",
   "execution_count": 5,
   "id": "506a8b3f-47ef-4d24-86d2-70d428e38de1",
   "metadata": {},
   "outputs": [
    {
     "name": "stdout",
     "output_type": "stream",
     "text": [
      "Now Scrapinghttp://quotes.toscrape.com//page/1\n"
     ]
    }
   ],
   "source": [
    "while url:\n",
    "    # concatenating both urls\n",
    "    # making request\n",
    "    res = requests.get(f\"{base_url}{url}\")\n",
    "    print(f\"Now Scraping{base_url}{url}\")\n",
    "    soup = BeautifulSoup(res.text, \"html.parser\")\n",
    "    # extracting all elements\n",
    "    quotes = soup.find_all(class_=\"quote\")\n",
    "    for quote in quotes:\n",
    "        all_quotes.append({\n",
    "            \"text\": quote.find(class_=\"text\").get_text(),\n",
    "            \"author\": quote.find(class_=\"author\").get_text(),\n",
    "            \"bio-link\": quote.find(\"a\")[\"href\"]\n",
    "        })\n",
    "    next_btn = soup.find(_class=\"next\")\n",
    "    url = next_btn.find(\"a\")[\"href\"] if next_btn else None\n",
    "    sleep(2)"
   ]
  },
  {
   "cell_type": "code",
   "execution_count": 8,
   "id": "d971ad20-5df4-4095-ac12-177567c634a2",
   "metadata": {},
   "outputs": [
    {
     "name": "stdout",
     "output_type": "stream",
     "text": [
      "Here's a quote:  \n",
      "“There are only two ways to live your life. One is as though nothing is a miracle. The other is as though everything is a miracle.”\n"
     ]
    },
    {
     "name": "stdin",
     "output_type": "stream",
     "text": [
      "Who said this quote? Guesses remaining 4 Rowling\n"
     ]
    },
    {
     "name": "stdout",
     "output_type": "stream",
     "text": [
      "Here's a hint: The author was born on March 14, 1879in Ulm, Germany\n"
     ]
    },
    {
     "name": "stdin",
     "output_type": "stream",
     "text": [
      "Who said this quote? Guesses remaining 3 shakespere\n"
     ]
    },
    {
     "name": "stdout",
     "output_type": "stream",
     "text": [
      "Here's a hint: The author's first name starts with: A\n"
     ]
    },
    {
     "name": "stdin",
     "output_type": "stream",
     "text": [
      "Who said this quote? Guesses remaining 2 anant\n"
     ]
    },
    {
     "name": "stdout",
     "output_type": "stream",
     "text": [
      "Here's a hint: The author's last name starts with: E\n"
     ]
    },
    {
     "name": "stdin",
     "output_type": "stream",
     "text": [
      "Who said this quote? Guesses remaining 1 e\n"
     ]
    },
    {
     "name": "stdout",
     "output_type": "stream",
     "text": [
      "Sorry, you ran out of guesses. The answer was Albert Einstein\n"
     ]
    }
   ],
   "source": [
    "quote = choice(all_quotes)\n",
    "remaining_guesses = 4\n",
    "print(\"Here's a quote:  \")\n",
    "print(quote[\"text\"])\n",
    "guess = ''\n",
    "while guess.lower() != quote[\"author\"].lower() and remaining_guesses > 0:\n",
    "    guess = input(\n",
    "        f\"Who said this quote? Guesses remaining {remaining_guesses}\")\n",
    "     \n",
    "    if guess == quote[\"author\"]:\n",
    "        print(\"CONGRATULATIONS!!! YOU GOT IT RIGHT\")\n",
    "        break\n",
    "    remaining_guesses -= 1\n",
    "     \n",
    "    if remaining_guesses == 3:\n",
    "        res = requests.get(f\"{base_url}{quote['bio-link']}\")\n",
    "        soup = BeautifulSoup(res.text, \"html.parser\")\n",
    "        birth_date = soup.find(class_=\"author-born-date\").get_text()\n",
    "        birth_place = soup.find(class_=\"author-born-location\").get_text()\n",
    "        print(\n",
    "            f\"Here's a hint: The author was born on {birth_date}{birth_place}\")\n",
    "     \n",
    "    elif remaining_guesses == 2:\n",
    "        print(\n",
    "            f\"Here's a hint: The author's first name starts with: {quote['author'][0]}\")\n",
    "     \n",
    "    elif remaining_guesses == 1:\n",
    "        last_initial = quote[\"author\"].split(\" \")[1][0]\n",
    "        print(\n",
    "            f\"Here's a hint: The author's last name starts with: {last_initial}\")\n",
    "     \n",
    "    else:\n",
    "        print(\n",
    "            f\"Sorry, you ran out of guesses. The answer was {quote['author']}\")"
   ]
  },
  {
   "cell_type": "code",
   "execution_count": null,
   "id": "e185daf1-25a6-4ec9-83e5-aabca4f68316",
   "metadata": {},
   "outputs": [],
   "source": []
  }
 ],
 "metadata": {
  "kernelspec": {
   "display_name": "Python 3 (ipykernel)",
   "language": "python",
   "name": "python3"
  },
  "language_info": {
   "codemirror_mode": {
    "name": "ipython",
    "version": 3
   },
   "file_extension": ".py",
   "mimetype": "text/x-python",
   "name": "python",
   "nbconvert_exporter": "python",
   "pygments_lexer": "ipython3",
   "version": "3.11.3"
  }
 },
 "nbformat": 4,
 "nbformat_minor": 5
}
